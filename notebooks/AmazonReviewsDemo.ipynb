﻿{
  "metadata": {
    "name": "AmazonReviewsDemo",
    "kernelspec": {
      "language": "scala",
      "name": "spark2-scala"
    },
    "language_info": {
      "codemirror_mode": "text/x-scala",
      "file_extension": ".scala",
      "mimetype": "text/x-scala",
      "name": "scala",
      "pygments_lexer": "scala"
    }
  },
  "nbformat": 4,
  "nbformat_minor": 2,
  "cells": [
    {
      "cell_type": "markdown",
      "metadata": {},
      "source": "## Load Reviews"
    },
    {
      "cell_type": "code",
      "execution_count": 1,
      "metadata": {
        "autoscroll": "auto"
      },
      "outputs": [],
      "source": "val reviews \u003d spark.read.parquet(s\"hdfs://localhost:9000/data/parquet/reviews\")"
    },
    {
      "cell_type": "code",
      "execution_count": 2,
      "metadata": {
        "autoscroll": "auto"
      },
      "outputs": [],
      "source": "reviews.printSchema"
    },
    {
      "cell_type": "markdown",
      "metadata": {},
      "source": "## Load Metadata"
    },
    {
      "cell_type": "code",
      "execution_count": 4,
      "metadata": {
        "autoscroll": "auto"
      },
      "outputs": [],
      "source": "val metadata \u003d spark.read.parquet(s\"hdfs://localhost:9000/data/parquet/metadata\")"
    },
    {
      "cell_type": "code",
      "execution_count": 5,
      "metadata": {
        "autoscroll": "auto"
      },
      "outputs": [],
      "source": "metadata.printSchema"
    },
    {
      "cell_type": "markdown",
      "metadata": {},
      "source": "## Top Category Ratings"
    },
    {
      "cell_type": "code",
      "execution_count": 7,
      "metadata": {
        "autoscroll": "auto"
      },
      "outputs": [],
      "source": "val topCategoryRatings \u003d spark.read.parquet(s\"hdfs://localhost:9000/data/parquet/top_category_ratings\")"
    },
    {
      "cell_type": "code",
      "execution_count": 8,
      "metadata": {
        "autoscroll": "auto"
      },
      "outputs": [],
      "source": "topCategoryRatings.printSchema"
    },
    {
      "cell_type": "code",
      "execution_count": 9,
      "metadata": {
        "autoscroll": "auto"
      },
      "outputs": [],
      "source": "topCategoryRatings.show(false)"
    },
    {
      "cell_type": "code",
      "execution_count": 10,
      "metadata": {
        "autoscroll": "auto"
      },
      "outputs": [],
      "source": "val ratingsCsv \u003d topCategoryRatings.where($\"year\".isNotNull and $\"month\".isNotNull).orderBy($\"year\", $\"month\")"
    },
    {
      "cell_type": "code",
      "execution_count": 11,
      "metadata": {
        "autoscroll": "auto"
      },
      "outputs": [],
      "source": "ratingsCsv.createOrReplaceTempView(\"ratings\")"
    },
    {
      "cell_type": "markdown",
      "metadata": {},
      "source": "## Query data using spark sql"
    },
    {
      "cell_type": "code",
      "execution_count": 13,
      "metadata": {},
      "outputs": [],
      "source": "%%sql\n\nselect * from ratings order by year desc, month desc limit 10 "
    },
    {
      "cell_type": "markdown",
      "metadata": {},
      "source": "## Write dataset as csv for importing into other visualization tools"
    },
    {
      "cell_type": "code",
      "execution_count": 15,
      "metadata": {
        "autoscroll": "auto"
      },
      "outputs": [],
      "source": "ratingsCsv.repartition(1).write.option(\"header\", \"true\").csv(s\"hdfs://localhost:9000/data/csv/ratings\")"
    }
  ]
}